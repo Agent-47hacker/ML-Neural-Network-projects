{
 "cells": [
  {
   "cell_type": "markdown",
   "metadata": {},
   "source": [
    "# UrbanSound8K"
   ]
  },
  {
   "cell_type": "markdown",
   "metadata": {},
   "source": [
    "## Cnn"
   ]
  },
  {
   "cell_type": "code",
   "execution_count": 1,
   "metadata": {},
   "outputs": [
    {
     "name": "stderr",
     "output_type": "stream",
     "text": [
      "Using TensorFlow backend.\n"
     ]
    }
   ],
   "source": [
    "import librosa\n",
    "import numpy as np\n",
    "import pandas as pd\n",
    "import random\n",
    "import keras\n",
    "from keras.layers import Activation,Dense,Dropout,Conv2D,Flatten,MaxPooling2D\n",
    "from keras.models import Sequential\n",
    "\n",
    "# Intro to librosa\n",
    "\n",
    "# # 1. Get the file path to the included audio example\n",
    "# filename = librosa.util.example_audio_file()\n",
    "\n",
    "# # 2. Load the audio as a waveform `y`\n",
    "# #    Store the sampling rate as `sr`\n",
    "# y, sr = librosa.load(filename)\n",
    "# print(y,sr)\n",
    "\n",
    "# # 3. Run the default beat tracker\n",
    "# tempo, beat_frames = librosa.beat.beat_track(y=y, sr=sr)\n",
    "# print(tempo,beat_frames)\n",
    "\n",
    "# print('Estimated tempo: {:.2f} beats per minute'.format(tempo))\n",
    "\n",
    "# # 4. Convert the frame indices of beat events into timestamps\n",
    "# beat_times = librosa.frames_to_time(beat_frames, sr=sr)\n",
    "# print(beat_times)"
   ]
  },
  {
   "cell_type": "code",
   "execution_count": 2,
   "metadata": {},
   "outputs": [],
   "source": [
    "import os"
   ]
  },
  {
   "cell_type": "code",
   "execution_count": 3,
   "metadata": {},
   "outputs": [],
   "source": [
    "#loading data from files and storing as melspectrogram\n",
    "def load_data(data,names):\n",
    "    D = []\n",
    "    c = 0\n",
    "    for f in names.itertuples():\n",
    "        c+=1\n",
    "        file_name = os.path.join(data,f.path)\n",
    "        y, sr = librosa.load(file_name ,duration=2.97)\n",
    "        ps = librosa.feature.melspectrogram(y=y, sr=sr)\n",
    "        if ps.shape == (128,128):\n",
    "               D.append((ps,f.classID))\n",
    "        if(c%1000 ==0):print(f.Index)\n",
    "    return(D)"
   ]
  },
  {
   "cell_type": "code",
   "execution_count": 4,
   "metadata": {},
   "outputs": [
    {
     "data": {
      "text/html": [
       "<div>\n",
       "<style scoped>\n",
       "    .dataframe tbody tr th:only-of-type {\n",
       "        vertical-align: middle;\n",
       "    }\n",
       "\n",
       "    .dataframe tbody tr th {\n",
       "        vertical-align: top;\n",
       "    }\n",
       "\n",
       "    .dataframe thead th {\n",
       "        text-align: right;\n",
       "    }\n",
       "</style>\n",
       "<table border=\"1\" class=\"dataframe\">\n",
       "  <thead>\n",
       "    <tr style=\"text-align: right;\">\n",
       "      <th></th>\n",
       "      <th>slice_file_name</th>\n",
       "      <th>fsID</th>\n",
       "      <th>start</th>\n",
       "      <th>end</th>\n",
       "      <th>salience</th>\n",
       "      <th>fold</th>\n",
       "      <th>classID</th>\n",
       "      <th>class</th>\n",
       "    </tr>\n",
       "  </thead>\n",
       "  <tbody>\n",
       "    <tr>\n",
       "      <th>0</th>\n",
       "      <td>100032-3-0-0.wav</td>\n",
       "      <td>100032</td>\n",
       "      <td>0.000000</td>\n",
       "      <td>0.317551</td>\n",
       "      <td>1</td>\n",
       "      <td>5</td>\n",
       "      <td>3</td>\n",
       "      <td>dog_bark</td>\n",
       "    </tr>\n",
       "    <tr>\n",
       "      <th>1</th>\n",
       "      <td>100263-2-0-117.wav</td>\n",
       "      <td>100263</td>\n",
       "      <td>58.500000</td>\n",
       "      <td>62.500000</td>\n",
       "      <td>1</td>\n",
       "      <td>5</td>\n",
       "      <td>2</td>\n",
       "      <td>children_playing</td>\n",
       "    </tr>\n",
       "    <tr>\n",
       "      <th>2</th>\n",
       "      <td>100263-2-0-121.wav</td>\n",
       "      <td>100263</td>\n",
       "      <td>60.500000</td>\n",
       "      <td>64.500000</td>\n",
       "      <td>1</td>\n",
       "      <td>5</td>\n",
       "      <td>2</td>\n",
       "      <td>children_playing</td>\n",
       "    </tr>\n",
       "    <tr>\n",
       "      <th>3</th>\n",
       "      <td>100263-2-0-126.wav</td>\n",
       "      <td>100263</td>\n",
       "      <td>63.000000</td>\n",
       "      <td>67.000000</td>\n",
       "      <td>1</td>\n",
       "      <td>5</td>\n",
       "      <td>2</td>\n",
       "      <td>children_playing</td>\n",
       "    </tr>\n",
       "    <tr>\n",
       "      <th>4</th>\n",
       "      <td>100263-2-0-137.wav</td>\n",
       "      <td>100263</td>\n",
       "      <td>68.500000</td>\n",
       "      <td>72.500000</td>\n",
       "      <td>1</td>\n",
       "      <td>5</td>\n",
       "      <td>2</td>\n",
       "      <td>children_playing</td>\n",
       "    </tr>\n",
       "    <tr>\n",
       "      <th>5</th>\n",
       "      <td>100263-2-0-143.wav</td>\n",
       "      <td>100263</td>\n",
       "      <td>71.500000</td>\n",
       "      <td>75.500000</td>\n",
       "      <td>1</td>\n",
       "      <td>5</td>\n",
       "      <td>2</td>\n",
       "      <td>children_playing</td>\n",
       "    </tr>\n",
       "    <tr>\n",
       "      <th>6</th>\n",
       "      <td>100263-2-0-161.wav</td>\n",
       "      <td>100263</td>\n",
       "      <td>80.500000</td>\n",
       "      <td>84.500000</td>\n",
       "      <td>1</td>\n",
       "      <td>5</td>\n",
       "      <td>2</td>\n",
       "      <td>children_playing</td>\n",
       "    </tr>\n",
       "    <tr>\n",
       "      <th>7</th>\n",
       "      <td>100263-2-0-3.wav</td>\n",
       "      <td>100263</td>\n",
       "      <td>1.500000</td>\n",
       "      <td>5.500000</td>\n",
       "      <td>1</td>\n",
       "      <td>5</td>\n",
       "      <td>2</td>\n",
       "      <td>children_playing</td>\n",
       "    </tr>\n",
       "    <tr>\n",
       "      <th>8</th>\n",
       "      <td>100263-2-0-36.wav</td>\n",
       "      <td>100263</td>\n",
       "      <td>18.000000</td>\n",
       "      <td>22.000000</td>\n",
       "      <td>1</td>\n",
       "      <td>5</td>\n",
       "      <td>2</td>\n",
       "      <td>children_playing</td>\n",
       "    </tr>\n",
       "    <tr>\n",
       "      <th>9</th>\n",
       "      <td>100648-1-0-0.wav</td>\n",
       "      <td>100648</td>\n",
       "      <td>4.823402</td>\n",
       "      <td>5.471927</td>\n",
       "      <td>2</td>\n",
       "      <td>10</td>\n",
       "      <td>1</td>\n",
       "      <td>car_horn</td>\n",
       "    </tr>\n",
       "    <tr>\n",
       "      <th>10</th>\n",
       "      <td>100648-1-1-0.wav</td>\n",
       "      <td>100648</td>\n",
       "      <td>8.998279</td>\n",
       "      <td>10.052132</td>\n",
       "      <td>2</td>\n",
       "      <td>10</td>\n",
       "      <td>1</td>\n",
       "      <td>car_horn</td>\n",
       "    </tr>\n",
       "  </tbody>\n",
       "</table>\n",
       "</div>"
      ],
      "text/plain": [
       "       slice_file_name    fsID      start        end  salience  fold  classID  \\\n",
       "0     100032-3-0-0.wav  100032   0.000000   0.317551         1     5        3   \n",
       "1   100263-2-0-117.wav  100263  58.500000  62.500000         1     5        2   \n",
       "2   100263-2-0-121.wav  100263  60.500000  64.500000         1     5        2   \n",
       "3   100263-2-0-126.wav  100263  63.000000  67.000000         1     5        2   \n",
       "4   100263-2-0-137.wav  100263  68.500000  72.500000         1     5        2   \n",
       "5   100263-2-0-143.wav  100263  71.500000  75.500000         1     5        2   \n",
       "6   100263-2-0-161.wav  100263  80.500000  84.500000         1     5        2   \n",
       "7     100263-2-0-3.wav  100263   1.500000   5.500000         1     5        2   \n",
       "8    100263-2-0-36.wav  100263  18.000000  22.000000         1     5        2   \n",
       "9     100648-1-0-0.wav  100648   4.823402   5.471927         2    10        1   \n",
       "10    100648-1-1-0.wav  100648   8.998279  10.052132         2    10        1   \n",
       "\n",
       "               class  \n",
       "0           dog_bark  \n",
       "1   children_playing  \n",
       "2   children_playing  \n",
       "3   children_playing  \n",
       "4   children_playing  \n",
       "5   children_playing  \n",
       "6   children_playing  \n",
       "7   children_playing  \n",
       "8   children_playing  \n",
       "9           car_horn  \n",
       "10          car_horn  "
      ]
     },
     "execution_count": 4,
     "metadata": {},
     "output_type": "execute_result"
    }
   ],
   "source": [
    "data = pd.read_csv(r'C:\\Users\\hello\\Desktop\\UrbanSound8K\\UrbanSound8K\\metadata\\UrbanSound8K.csv')\n",
    "data.head(11)"
   ]
  },
  {
   "cell_type": "code",
   "execution_count": 5,
   "metadata": {},
   "outputs": [
    {
     "data": {
      "text/plain": [
       "(8732, 8)"
      ]
     },
     "execution_count": 5,
     "metadata": {},
     "output_type": "execute_result"
    }
   ],
   "source": [
    "data.shape"
   ]
  },
  {
   "cell_type": "code",
   "execution_count": 6,
   "metadata": {},
   "outputs": [
    {
     "data": {
      "text/plain": [
       "(7468, 4)"
      ]
     },
     "execution_count": 6,
     "metadata": {},
     "output_type": "execute_result"
    }
   ],
   "source": [
    "# Get data over 3 seconds long\n",
    "valid_data = data[['slice_file_name', 'fold' ,'classID', 'class']][ data['end']-data['start'] >= 3 ]\n",
    "valid_data.shape"
   ]
  },
  {
   "cell_type": "code",
   "execution_count": 7,
   "metadata": {},
   "outputs": [
    {
     "data": {
      "text/html": [
       "<div>\n",
       "<style scoped>\n",
       "    .dataframe tbody tr th:only-of-type {\n",
       "        vertical-align: middle;\n",
       "    }\n",
       "\n",
       "    .dataframe tbody tr th {\n",
       "        vertical-align: top;\n",
       "    }\n",
       "\n",
       "    .dataframe thead th {\n",
       "        text-align: right;\n",
       "    }\n",
       "</style>\n",
       "<table border=\"1\" class=\"dataframe\">\n",
       "  <thead>\n",
       "    <tr style=\"text-align: right;\">\n",
       "      <th></th>\n",
       "      <th>slice_file_name</th>\n",
       "      <th>fold</th>\n",
       "      <th>classID</th>\n",
       "      <th>class</th>\n",
       "    </tr>\n",
       "  </thead>\n",
       "  <tbody>\n",
       "    <tr>\n",
       "      <th>1</th>\n",
       "      <td>100263-2-0-117.wav</td>\n",
       "      <td>5</td>\n",
       "      <td>2</td>\n",
       "      <td>children_playing</td>\n",
       "    </tr>\n",
       "    <tr>\n",
       "      <th>2</th>\n",
       "      <td>100263-2-0-121.wav</td>\n",
       "      <td>5</td>\n",
       "      <td>2</td>\n",
       "      <td>children_playing</td>\n",
       "    </tr>\n",
       "    <tr>\n",
       "      <th>3</th>\n",
       "      <td>100263-2-0-126.wav</td>\n",
       "      <td>5</td>\n",
       "      <td>2</td>\n",
       "      <td>children_playing</td>\n",
       "    </tr>\n",
       "    <tr>\n",
       "      <th>4</th>\n",
       "      <td>100263-2-0-137.wav</td>\n",
       "      <td>5</td>\n",
       "      <td>2</td>\n",
       "      <td>children_playing</td>\n",
       "    </tr>\n",
       "    <tr>\n",
       "      <th>5</th>\n",
       "      <td>100263-2-0-143.wav</td>\n",
       "      <td>5</td>\n",
       "      <td>2</td>\n",
       "      <td>children_playing</td>\n",
       "    </tr>\n",
       "    <tr>\n",
       "      <th>6</th>\n",
       "      <td>100263-2-0-161.wav</td>\n",
       "      <td>5</td>\n",
       "      <td>2</td>\n",
       "      <td>children_playing</td>\n",
       "    </tr>\n",
       "    <tr>\n",
       "      <th>7</th>\n",
       "      <td>100263-2-0-3.wav</td>\n",
       "      <td>5</td>\n",
       "      <td>2</td>\n",
       "      <td>children_playing</td>\n",
       "    </tr>\n",
       "    <tr>\n",
       "      <th>8</th>\n",
       "      <td>100263-2-0-36.wav</td>\n",
       "      <td>5</td>\n",
       "      <td>2</td>\n",
       "      <td>children_playing</td>\n",
       "    </tr>\n",
       "    <tr>\n",
       "      <th>14</th>\n",
       "      <td>100652-3-0-0.wav</td>\n",
       "      <td>2</td>\n",
       "      <td>3</td>\n",
       "      <td>dog_bark</td>\n",
       "    </tr>\n",
       "    <tr>\n",
       "      <th>15</th>\n",
       "      <td>100652-3-0-1.wav</td>\n",
       "      <td>2</td>\n",
       "      <td>3</td>\n",
       "      <td>dog_bark</td>\n",
       "    </tr>\n",
       "    <tr>\n",
       "      <th>16</th>\n",
       "      <td>100652-3-0-2.wav</td>\n",
       "      <td>2</td>\n",
       "      <td>3</td>\n",
       "      <td>dog_bark</td>\n",
       "    </tr>\n",
       "    <tr>\n",
       "      <th>17</th>\n",
       "      <td>100652-3-0-3.wav</td>\n",
       "      <td>2</td>\n",
       "      <td>3</td>\n",
       "      <td>dog_bark</td>\n",
       "    </tr>\n",
       "    <tr>\n",
       "      <th>18</th>\n",
       "      <td>100795-3-0-0.wav</td>\n",
       "      <td>10</td>\n",
       "      <td>3</td>\n",
       "      <td>dog_bark</td>\n",
       "    </tr>\n",
       "    <tr>\n",
       "      <th>19</th>\n",
       "      <td>100795-3-1-0.wav</td>\n",
       "      <td>10</td>\n",
       "      <td>3</td>\n",
       "      <td>dog_bark</td>\n",
       "    </tr>\n",
       "    <tr>\n",
       "      <th>20</th>\n",
       "      <td>100795-3-1-1.wav</td>\n",
       "      <td>10</td>\n",
       "      <td>3</td>\n",
       "      <td>dog_bark</td>\n",
       "    </tr>\n",
       "  </tbody>\n",
       "</table>\n",
       "</div>"
      ],
      "text/plain": [
       "       slice_file_name  fold  classID             class\n",
       "1   100263-2-0-117.wav     5        2  children_playing\n",
       "2   100263-2-0-121.wav     5        2  children_playing\n",
       "3   100263-2-0-126.wav     5        2  children_playing\n",
       "4   100263-2-0-137.wav     5        2  children_playing\n",
       "5   100263-2-0-143.wav     5        2  children_playing\n",
       "6   100263-2-0-161.wav     5        2  children_playing\n",
       "7     100263-2-0-3.wav     5        2  children_playing\n",
       "8    100263-2-0-36.wav     5        2  children_playing\n",
       "14    100652-3-0-0.wav     2        3          dog_bark\n",
       "15    100652-3-0-1.wav     2        3          dog_bark\n",
       "16    100652-3-0-2.wav     2        3          dog_bark\n",
       "17    100652-3-0-3.wav     2        3          dog_bark\n",
       "18    100795-3-0-0.wav    10        3          dog_bark\n",
       "19    100795-3-1-0.wav    10        3          dog_bark\n",
       "20    100795-3-1-1.wav    10        3          dog_bark"
      ]
     },
     "execution_count": 7,
     "metadata": {},
     "output_type": "execute_result"
    }
   ],
   "source": [
    "valid_data.head(15)"
   ]
  },
  {
   "cell_type": "code",
   "execution_count": 8,
   "metadata": {},
   "outputs": [],
   "source": [
    "# adding folder and filename to path column\n",
    "valid_data['path'] = 'fold' + valid_data['fold'].astype('str') + str(\"\\\\\") + valid_data['slice_file_name'].astype('str')"
   ]
  },
  {
   "cell_type": "code",
   "execution_count": 9,
   "metadata": {
    "scrolled": true
   },
   "outputs": [
    {
     "name": "stdout",
     "output_type": "stream",
     "text": [
      "1070\n",
      "2277\n",
      "3528\n",
      "4683\n",
      "5857\n",
      "7084\n",
      "8179\n"
     ]
    },
    {
     "data": {
      "text/plain": [
       "7467"
      ]
     },
     "execution_count": 9,
     "metadata": {},
     "output_type": "execute_result"
    }
   ],
   "source": [
    "t = load_data(r'C:\\Users\\hello\\Desktop\\UrbanSound8K\\UrbanSound8K\\audio',valid_data)\n",
    "len(t)"
   ]
  },
  {
   "cell_type": "code",
   "execution_count": null,
   "metadata": {},
   "outputs": [],
   "source": []
  },
  {
   "cell_type": "code",
   "execution_count": 10,
   "metadata": {
    "scrolled": true
   },
   "outputs": [
    {
     "name": "stdout",
     "output_type": "stream",
     "text": [
      "(array([[1.9723278e-02, 4.1040558e-02, 1.8539123e-02, ..., 8.5462835e-03,\n",
      "        5.3339968e-03, 3.8408160e-02],\n",
      "       [2.2824360e-02, 3.6766436e-02, 2.0244755e-02, ..., 2.0034175e-02,\n",
      "        1.5074839e-02, 1.0440601e-02],\n",
      "       [1.8157125e-02, 3.0914154e-02, 2.6804928e-02, ..., 1.6050415e-02,\n",
      "        1.7375546e-02, 1.1339896e-02],\n",
      "       ...,\n",
      "       [2.8042020e-06, 2.5728361e-06, 3.4476034e-06, ..., 6.0977309e-06,\n",
      "        1.1406619e-05, 1.2841096e-05],\n",
      "       [1.4985648e-06, 1.2168863e-06, 2.0153952e-06, ..., 7.5262238e-07,\n",
      "        1.8069223e-06, 3.9235983e-06],\n",
      "       [9.5098898e-07, 2.9593167e-07, 7.4605310e-08, ..., 4.4321943e-08,\n",
      "        4.9451511e-08, 2.0704729e-07]], dtype=float32), 2) (array([[8.4149241e-03, 1.0018934e-02, 5.2789464e-03, ..., 4.8151087e-02,\n",
      "        3.1068638e-02, 7.1702623e-03],\n",
      "       [1.1224099e-02, 4.8862332e-03, 2.3080767e-03, ..., 1.1473654e-02,\n",
      "        9.2293778e-03, 1.0404558e-02],\n",
      "       [4.2239870e-03, 1.9912729e-03, 1.2221524e-03, ..., 4.1628005e-03,\n",
      "        3.9010427e-03, 1.5849728e-03],\n",
      "       ...,\n",
      "       [6.2276795e-06, 6.1685023e-06, 5.3734411e-06, ..., 2.4346900e-05,\n",
      "        1.1237357e-05, 1.5553389e-05],\n",
      "       [1.4975150e-06, 1.5278150e-06, 1.7324880e-06, ..., 1.2203493e-07,\n",
      "        4.3214135e-07, 1.5302039e-05],\n",
      "       [5.0376559e-07, 2.4729954e-07, 1.5388558e-07, ..., 2.9363034e-07,\n",
      "        3.4052871e-07, 1.6601711e-05]], dtype=float32), 3)\n"
     ]
    }
   ],
   "source": [
    "print(t[0],t[10])"
   ]
  },
  {
   "cell_type": "code",
   "execution_count": 11,
   "metadata": {},
   "outputs": [],
   "source": [
    "#shuffeling and splitting of dataset\n",
    "dataset = t\n",
    "random.shuffle(dataset)\n",
    "t[:10]\n",
    "train = dataset[:7000]\n",
    "test = dataset[7000:]\n",
    "\n",
    "X_train, y_train = zip(*train)\n",
    "X_test, y_test = zip(*test)\n",
    "\n",
    "# Reshape for CNN input\n",
    "X_train = np.array([x.reshape( (128, 128, 1) ) for x in X_train])\n",
    "X_test = np.array([x.reshape( (128, 128, 1) ) for x in X_test])\n",
    "\n",
    "# One-Hot encoding for classes\n",
    "y_train = np.array(keras.utils.to_categorical(y_train, 10))\n",
    "y_test = np.array(keras.utils.to_categorical(y_test, 10))"
   ]
  },
  {
   "cell_type": "code",
   "execution_count": 12,
   "metadata": {},
   "outputs": [
    {
     "name": "stdout",
     "output_type": "stream",
     "text": [
      "WARNING:tensorflow:From C:\\Users\\hello\\Anaconda3\\lib\\site-packages\\tensorflow\\python\\ops\\resource_variable_ops.py:435: colocate_with (from tensorflow.python.framework.ops) is deprecated and will be removed in a future version.\n",
      "Instructions for updating:\n",
      "Colocations handled automatically by placer.\n"
     ]
    }
   ],
   "source": [
    "#training cnn model using keras\n",
    "model = Sequential()\n",
    "input_shape = (128,128,1)\n",
    "\n",
    "model.add(Conv2D(24,(5,5),strides = (1,1),input_shape = input_shape))\n",
    "model.add(MaxPooling2D((4,2),strides = (4,2)))\n",
    "model.add(Activation('relu'))\n",
    "\n",
    "model.add(Conv2D(48,(5,5),padding = \"valid\"))\n",
    "model.add(MaxPooling2D((4,2),strides = (4,2)))\n",
    "model.add(Activation('relu'))\n",
    "\n",
    "model.add(Conv2D(48,(5,5),padding = \"valid\"))\n",
    "model.add(Activation('relu'))\n",
    "\n",
    "model.add(Flatten())\n",
    "model.add(Dropout(rate = 0.5))\n",
    "\n",
    "model.add(Dense(64))\n",
    "model.add(Activation('relu'))\n",
    "model.add(Dropout(rate = 0.5))\n",
    "\n",
    "model.add(Dense(10))\n",
    "model.add(Activation('softmax'))\n"
   ]
  },
  {
   "cell_type": "code",
   "execution_count": 13,
   "metadata": {},
   "outputs": [
    {
     "name": "stdout",
     "output_type": "stream",
     "text": [
      "WARNING:tensorflow:From C:\\Users\\hello\\Anaconda3\\lib\\site-packages\\tensorflow\\python\\ops\\math_ops.py:3066: to_int32 (from tensorflow.python.ops.math_ops) is deprecated and will be removed in a future version.\n",
      "Instructions for updating:\n",
      "Use tf.cast instead.\n",
      "Train on 7000 samples, validate on 467 samples\n",
      "Epoch 1/12\n",
      "7000/7000 [==============================] - 75s 11ms/step - loss: 2.6403 - accuracy: 0.2159 - val_loss: 2.1013 - val_accuracy: 0.3041\n",
      "Epoch 2/12\n",
      "7000/7000 [==============================] - 70s 10ms/step - loss: 2.0791 - accuracy: 0.2843 - val_loss: 1.8803 - val_accuracy: 0.3533\n",
      "Epoch 3/12\n",
      "7000/7000 [==============================] - 70s 10ms/step - loss: 1.8424 - accuracy: 0.3541 - val_loss: 1.6610 - val_accuracy: 0.4133\n",
      "Epoch 4/12\n",
      "7000/7000 [==============================] - 68s 10ms/step - loss: 1.7013 - accuracy: 0.4020 - val_loss: 1.5261 - val_accuracy: 0.4775\n",
      "Epoch 5/12\n",
      "7000/7000 [==============================] - 71s 10ms/step - loss: 1.5837 - accuracy: 0.4509 - val_loss: 1.4104 - val_accuracy: 0.4711\n",
      "Epoch 6/12\n",
      "7000/7000 [==============================] - 71s 10ms/step - loss: 1.4592 - accuracy: 0.4836 - val_loss: 1.3581 - val_accuracy: 0.5182\n",
      "Epoch 7/12\n",
      "7000/7000 [==============================] - 72s 10ms/step - loss: 1.3491 - accuracy: 0.5279 - val_loss: 1.1976 - val_accuracy: 0.5739\n",
      "Epoch 8/12\n",
      "7000/7000 [==============================] - 70s 10ms/step - loss: 1.2976 - accuracy: 0.5547 - val_loss: 1.1428 - val_accuracy: 0.5953\n",
      "Epoch 9/12\n",
      "7000/7000 [==============================] - 104s 15ms/step - loss: 1.1999 - accuracy: 0.5874 - val_loss: 1.1017 - val_accuracy: 0.6124\n",
      "Epoch 10/12\n",
      "7000/7000 [==============================] - 130s 19ms/step - loss: 1.1121 - accuracy: 0.6243 - val_loss: 1.0407 - val_accuracy: 0.6617\n",
      "Epoch 11/12\n",
      "7000/7000 [==============================] - 133s 19ms/step - loss: 1.0827 - accuracy: 0.6351 - val_loss: 1.1182 - val_accuracy: 0.6360\n",
      "Epoch 12/12\n",
      "7000/7000 [==============================] - 66s 9ms/step - loss: 1.0468 - accuracy: 0.6533 - val_loss: 0.9927 - val_accuracy: 0.6574\n",
      "467/467 [==============================] - 1s 3ms/step\n",
      "Test loss: 0.9926766448153673\n",
      "Test accuracy: 0.6573875546455383\n"
     ]
    }
   ],
   "source": [
    "model.compile(\n",
    "    optimizer=\"Adam\",\n",
    "    loss=\"categorical_crossentropy\",\n",
    "    metrics=['accuracy'])\n",
    "\n",
    "model.fit(\n",
    "    x=X_train, \n",
    "    y=y_train,\n",
    "    epochs=12,\n",
    "    batch_size=128,\n",
    "    validation_data= (X_test, y_test))\n",
    "\n",
    "score = model.evaluate(\n",
    "    x=X_test,\n",
    "    y=y_test)\n",
    "\n",
    "print('Test loss:', score[0])\n",
    "print('Test accuracy:', score[1])"
   ]
  },
  {
   "cell_type": "code",
   "execution_count": null,
   "metadata": {},
   "outputs": [],
   "source": []
  }
 ],
 "metadata": {
  "kernelspec": {
   "display_name": "Python 3",
   "language": "python",
   "name": "python3"
  },
  "language_info": {
   "codemirror_mode": {
    "name": "ipython",
    "version": 3
   },
   "file_extension": ".py",
   "mimetype": "text/x-python",
   "name": "python",
   "nbconvert_exporter": "python",
   "pygments_lexer": "ipython3",
   "version": "3.7.3"
  }
 },
 "nbformat": 4,
 "nbformat_minor": 2
}
